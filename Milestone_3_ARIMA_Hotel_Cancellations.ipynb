{
 "cells": [
  {
   "cell_type": "code",
   "execution_count": 1,
   "metadata": {},
   "outputs": [],
   "source": [
    "import pandas as pd\n",
    "import numpy as np\n",
    "import seaborn as sns\n",
    "import matplotlib.pyplot as plt\n",
    "import time\n",
    "import re\n",
    "import nltk\n",
    "import math\n",
    "import pickle\n",
    "\n",
    "from statsmodels.tsa.arima.model import ARIMA\n",
    "\n",
    "%matplotlib inline"
   ]
  },
  {
   "cell_type": "code",
   "execution_count": 2,
   "metadata": {},
   "outputs": [],
   "source": [
    "data_train = pd.read_csv(\"hotel_train.csv\")"
   ]
  },
  {
   "cell_type": "code",
   "execution_count": 3,
   "metadata": {},
   "outputs": [],
   "source": [
    "data_test = pd.read_csv(\"hotel_test.csv\")"
   ]
  },
  {
   "cell_type": "code",
   "execution_count": 4,
   "metadata": {},
   "outputs": [],
   "source": [
    "# making date as an Index\n",
    "data_train.set_index('date',inplace=True)\n",
    "\n",
    "data_test.set_index('date',inplace=True)"
   ]
  },
  {
   "cell_type": "code",
   "execution_count": 5,
   "metadata": {},
   "outputs": [
    {
     "data": {
      "text/html": [
       "<div><div id=bf6515a6-71d2-45e5-bb3a-8d2fbeb8cb59 style=\"display:none; background-color:#9D6CFF; color:white; width:200px; height:30px; padding-left:5px; border-radius:4px; flex-direction:row; justify-content:space-around; align-items:center;\" onmouseover=\"this.style.backgroundColor='#BA9BF8'\" onmouseout=\"this.style.backgroundColor='#9D6CFF'\" onclick=\"window.commands?.execute('create-mitosheet-from-dataframe-output');\">See Full Dataframe in Mito</div> <script> if (window.commands.hasCommand('create-mitosheet-from-dataframe-output')) document.getElementById('bf6515a6-71d2-45e5-bb3a-8d2fbeb8cb59').style.display = 'flex' </script> <table border=\"1\" class=\"dataframe\">\n",
       "  <thead>\n",
       "    <tr style=\"text-align: right;\">\n",
       "      <th></th>\n",
       "      <th>Date_Year_and_Week_Number</th>\n",
       "      <th>IsCanceled</th>\n",
       "      <th>year</th>\n",
       "      <th>week_of_year</th>\n",
       "      <th>IsCanceled_4WK_SMA</th>\n",
       "    </tr>\n",
       "    <tr>\n",
       "      <th>date</th>\n",
       "      <th></th>\n",
       "      <th></th>\n",
       "      <th></th>\n",
       "      <th></th>\n",
       "      <th></th>\n",
       "    </tr>\n",
       "  </thead>\n",
       "  <tbody>\n",
       "    <tr>\n",
       "      <th>2015-07-06</th>\n",
       "      <td>201527</td>\n",
       "      <td>41</td>\n",
       "      <td>2015</td>\n",
       "      <td>27</td>\n",
       "      <td>NaN</td>\n",
       "    </tr>\n",
       "    <tr>\n",
       "      <th>2015-07-13</th>\n",
       "      <td>201528</td>\n",
       "      <td>48</td>\n",
       "      <td>2015</td>\n",
       "      <td>28</td>\n",
       "      <td>NaN</td>\n",
       "    </tr>\n",
       "    <tr>\n",
       "      <th>2015-07-20</th>\n",
       "      <td>201529</td>\n",
       "      <td>87</td>\n",
       "      <td>2015</td>\n",
       "      <td>29</td>\n",
       "      <td>NaN</td>\n",
       "    </tr>\n",
       "    <tr>\n",
       "      <th>2015-07-27</th>\n",
       "      <td>201530</td>\n",
       "      <td>74</td>\n",
       "      <td>2015</td>\n",
       "      <td>30</td>\n",
       "      <td>62.5</td>\n",
       "    </tr>\n",
       "    <tr>\n",
       "      <th>2015-08-03</th>\n",
       "      <td>201531</td>\n",
       "      <td>101</td>\n",
       "      <td>2015</td>\n",
       "      <td>31</td>\n",
       "      <td>77.5</td>\n",
       "    </tr>\n",
       "  </tbody>\n",
       "</table></div>"
      ],
      "text/plain": [
       "            Date_Year_and_Week_Number  IsCanceled  year  week_of_year  \\\n",
       "date                                                                    \n",
       "2015-07-06                     201527          41  2015            27   \n",
       "2015-07-13                     201528          48  2015            28   \n",
       "2015-07-20                     201529          87  2015            29   \n",
       "2015-07-27                     201530          74  2015            30   \n",
       "2015-08-03                     201531         101  2015            31   \n",
       "\n",
       "            IsCanceled_4WK_SMA  \n",
       "date                            \n",
       "2015-07-06                 NaN  \n",
       "2015-07-13                 NaN  \n",
       "2015-07-20                 NaN  \n",
       "2015-07-27                62.5  \n",
       "2015-08-03                77.5  "
      ]
     },
     "execution_count": 5,
     "metadata": {},
     "output_type": "execute_result"
    }
   ],
   "source": [
    "data_train.head()"
   ]
  },
  {
   "cell_type": "code",
   "execution_count": 6,
   "metadata": {},
   "outputs": [
    {
     "data": {
      "text/plain": [
       "(103, 5)"
      ]
     },
     "execution_count": 6,
     "metadata": {},
     "output_type": "execute_result"
    }
   ],
   "source": [
    "data_train.shape"
   ]
  },
  {
   "cell_type": "code",
   "execution_count": 7,
   "metadata": {},
   "outputs": [
    {
     "data": {
      "text/html": [
       "<div><div id=8f420266-bbb5-4c37-b6af-0db7634ee684 style=\"display:none; background-color:#9D6CFF; color:white; width:200px; height:30px; padding-left:5px; border-radius:4px; flex-direction:row; justify-content:space-around; align-items:center;\" onmouseover=\"this.style.backgroundColor='#BA9BF8'\" onmouseout=\"this.style.backgroundColor='#9D6CFF'\" onclick=\"window.commands?.execute('create-mitosheet-from-dataframe-output');\">See Full Dataframe in Mito</div> <script> if (window.commands.hasCommand('create-mitosheet-from-dataframe-output')) document.getElementById('8f420266-bbb5-4c37-b6af-0db7634ee684').style.display = 'flex' </script> <table border=\"1\" class=\"dataframe\">\n",
       "  <thead>\n",
       "    <tr style=\"text-align: right;\">\n",
       "      <th></th>\n",
       "      <th>Date_Year_and_Week_Number</th>\n",
       "      <th>IsCanceled</th>\n",
       "      <th>year</th>\n",
       "      <th>week_of_year</th>\n",
       "      <th>IsCanceled_4WK_SMA</th>\n",
       "    </tr>\n",
       "    <tr>\n",
       "      <th>date</th>\n",
       "      <th></th>\n",
       "      <th></th>\n",
       "      <th></th>\n",
       "      <th></th>\n",
       "      <th></th>\n",
       "    </tr>\n",
       "  </thead>\n",
       "  <tbody>\n",
       "    <tr>\n",
       "      <th>2017-07-24</th>\n",
       "      <td>201730</td>\n",
       "      <td>157</td>\n",
       "      <td>2017</td>\n",
       "      <td>30</td>\n",
       "      <td>122.25</td>\n",
       "    </tr>\n",
       "    <tr>\n",
       "      <th>2017-07-31</th>\n",
       "      <td>201731</td>\n",
       "      <td>173</td>\n",
       "      <td>2017</td>\n",
       "      <td>31</td>\n",
       "      <td>130.75</td>\n",
       "    </tr>\n",
       "    <tr>\n",
       "      <th>2017-08-07</th>\n",
       "      <td>201732</td>\n",
       "      <td>140</td>\n",
       "      <td>2017</td>\n",
       "      <td>32</td>\n",
       "      <td>128.25</td>\n",
       "    </tr>\n",
       "    <tr>\n",
       "      <th>2017-08-14</th>\n",
       "      <td>201733</td>\n",
       "      <td>182</td>\n",
       "      <td>2017</td>\n",
       "      <td>33</td>\n",
       "      <td>163.00</td>\n",
       "    </tr>\n",
       "    <tr>\n",
       "      <th>2017-08-21</th>\n",
       "      <td>201734</td>\n",
       "      <td>143</td>\n",
       "      <td>2017</td>\n",
       "      <td>34</td>\n",
       "      <td>159.50</td>\n",
       "    </tr>\n",
       "  </tbody>\n",
       "</table></div>"
      ],
      "text/plain": [
       "            Date_Year_and_Week_Number  IsCanceled  year  week_of_year  \\\n",
       "date                                                                    \n",
       "2017-07-24                     201730         157  2017            30   \n",
       "2017-07-31                     201731         173  2017            31   \n",
       "2017-08-07                     201732         140  2017            32   \n",
       "2017-08-14                     201733         182  2017            33   \n",
       "2017-08-21                     201734         143  2017            34   \n",
       "\n",
       "            IsCanceled_4WK_SMA  \n",
       "date                            \n",
       "2017-07-24              122.25  \n",
       "2017-07-31              130.75  \n",
       "2017-08-07              128.25  \n",
       "2017-08-14              163.00  \n",
       "2017-08-21              159.50  "
      ]
     },
     "execution_count": 7,
     "metadata": {},
     "output_type": "execute_result"
    }
   ],
   "source": [
    "data_test.head()"
   ]
  },
  {
   "cell_type": "code",
   "execution_count": 8,
   "metadata": {},
   "outputs": [
    {
     "data": {
      "text/html": [
       "<div><div id=c35e9716-ab58-4fcf-b139-98e2eaac910c style=\"display:none; background-color:#9D6CFF; color:white; width:200px; height:30px; padding-left:5px; border-radius:4px; flex-direction:row; justify-content:space-around; align-items:center;\" onmouseover=\"this.style.backgroundColor='#BA9BF8'\" onmouseout=\"this.style.backgroundColor='#9D6CFF'\" onclick=\"window.commands?.execute('create-mitosheet-from-dataframe-output');\">See Full Dataframe in Mito</div> <script> if (window.commands.hasCommand('create-mitosheet-from-dataframe-output')) document.getElementById('c35e9716-ab58-4fcf-b139-98e2eaac910c').style.display = 'flex' </script> <table border=\"1\" class=\"dataframe\">\n",
       "  <thead>\n",
       "    <tr style=\"text-align: right;\">\n",
       "      <th></th>\n",
       "      <th>Date_Year_and_Week_Number</th>\n",
       "      <th>IsCanceled</th>\n",
       "      <th>year</th>\n",
       "      <th>week_of_year</th>\n",
       "      <th>IsCanceled_4WK_SMA</th>\n",
       "    </tr>\n",
       "    <tr>\n",
       "      <th>date</th>\n",
       "      <th></th>\n",
       "      <th></th>\n",
       "      <th></th>\n",
       "      <th></th>\n",
       "      <th></th>\n",
       "    </tr>\n",
       "  </thead>\n",
       "  <tbody>\n",
       "    <tr>\n",
       "      <th>2017-01-30</th>\n",
       "      <td>20175</td>\n",
       "      <td>51</td>\n",
       "      <td>2017</td>\n",
       "      <td>5</td>\n",
       "      <td>86.25</td>\n",
       "    </tr>\n",
       "    <tr>\n",
       "      <th>2017-02-06</th>\n",
       "      <td>20176</td>\n",
       "      <td>91</td>\n",
       "      <td>2017</td>\n",
       "      <td>6</td>\n",
       "      <td>73.25</td>\n",
       "    </tr>\n",
       "    <tr>\n",
       "      <th>2017-02-13</th>\n",
       "      <td>20177</td>\n",
       "      <td>96</td>\n",
       "      <td>2017</td>\n",
       "      <td>7</td>\n",
       "      <td>72.25</td>\n",
       "    </tr>\n",
       "    <tr>\n",
       "      <th>2017-02-20</th>\n",
       "      <td>20178</td>\n",
       "      <td>128</td>\n",
       "      <td>2017</td>\n",
       "      <td>8</td>\n",
       "      <td>91.50</td>\n",
       "    </tr>\n",
       "    <tr>\n",
       "      <th>2017-02-27</th>\n",
       "      <td>20179</td>\n",
       "      <td>77</td>\n",
       "      <td>2017</td>\n",
       "      <td>9</td>\n",
       "      <td>98.00</td>\n",
       "    </tr>\n",
       "  </tbody>\n",
       "</table></div>"
      ],
      "text/plain": [
       "            Date_Year_and_Week_Number  IsCanceled  year  week_of_year  \\\n",
       "date                                                                    \n",
       "2017-01-30                      20175          51  2017             5   \n",
       "2017-02-06                      20176          91  2017             6   \n",
       "2017-02-13                      20177          96  2017             7   \n",
       "2017-02-20                      20178         128  2017             8   \n",
       "2017-02-27                      20179          77  2017             9   \n",
       "\n",
       "            IsCanceled_4WK_SMA  \n",
       "date                            \n",
       "2017-01-30               86.25  \n",
       "2017-02-06               73.25  \n",
       "2017-02-13               72.25  \n",
       "2017-02-20               91.50  \n",
       "2017-02-27               98.00  "
      ]
     },
     "execution_count": 8,
     "metadata": {},
     "output_type": "execute_result"
    }
   ],
   "source": [
    "data_test.tail()"
   ]
  },
  {
   "cell_type": "code",
   "execution_count": 9,
   "metadata": {},
   "outputs": [
    {
     "data": {
      "text/plain": [
       "(12, 5)"
      ]
     },
     "execution_count": 9,
     "metadata": {},
     "output_type": "execute_result"
    }
   ],
   "source": [
    "data_test.shape"
   ]
  },
  {
   "cell_type": "markdown",
   "metadata": {},
   "source": [
    "## 1. Use pmdarima to train a model on the training data and select a model of best fit based on  the Bayesian information criterion (BIC). The lower the BIC, the better the fit. Make sure to identify an appropriate seasonal factor when configuring the model (Hint: Use the autocorrelation function to help you do this)."
   ]
  },
  {
   "cell_type": "code",
   "execution_count": 10,
   "metadata": {},
   "outputs": [
    {
     "name": "stderr",
     "output_type": "stream",
     "text": [
      "/Users/scottlew/anaconda2/envs/py3/lib/python3.6/site-packages/statsmodels/tsa/base/tsa_model.py:583: ValueWarning:\n",
      "\n",
      "A date index has been provided, but it has no associated frequency information and so will be ignored when e.g. forecasting.\n",
      "\n",
      "/Users/scottlew/anaconda2/envs/py3/lib/python3.6/site-packages/statsmodels/tsa/base/tsa_model.py:587: ValueWarning:\n",
      "\n",
      "A date index has been provided, but it is not monotonic and so will be ignored when e.g. forecasting.\n",
      "\n",
      "/Users/scottlew/anaconda2/envs/py3/lib/python3.6/site-packages/statsmodels/tsa/base/tsa_model.py:583: ValueWarning:\n",
      "\n",
      "A date index has been provided, but it has no associated frequency information and so will be ignored when e.g. forecasting.\n",
      "\n",
      "/Users/scottlew/anaconda2/envs/py3/lib/python3.6/site-packages/statsmodels/tsa/base/tsa_model.py:587: ValueWarning:\n",
      "\n",
      "A date index has been provided, but it is not monotonic and so will be ignored when e.g. forecasting.\n",
      "\n",
      "/Users/scottlew/anaconda2/envs/py3/lib/python3.6/site-packages/statsmodels/tsa/base/tsa_model.py:583: ValueWarning:\n",
      "\n",
      "A date index has been provided, but it has no associated frequency information and so will be ignored when e.g. forecasting.\n",
      "\n",
      "/Users/scottlew/anaconda2/envs/py3/lib/python3.6/site-packages/statsmodels/tsa/base/tsa_model.py:587: ValueWarning:\n",
      "\n",
      "A date index has been provided, but it is not monotonic and so will be ignored when e.g. forecasting.\n",
      "\n"
     ]
    }
   ],
   "source": [
    "# fit model\n",
    "model = ARIMA(data_train['IsCanceled']) #, order=(5,1,0))\n",
    "model_fit = model.fit()"
   ]
  },
  {
   "cell_type": "markdown",
   "metadata": {},
   "source": [
    "## Optimization of ARIMA model with training data"
   ]
  },
  {
   "cell_type": "code",
   "execution_count": 11,
   "metadata": {},
   "outputs": [
    {
     "name": "stdout",
     "output_type": "stream",
     "text": [
      "                               SARIMAX Results                                \n",
      "==============================================================================\n",
      "Dep. Variable:             IsCanceled   No. Observations:                  103\n",
      "Model:                          ARIMA   Log Likelihood                -539.312\n",
      "Date:                Tue, 31 May 2022   AIC                           1082.623\n",
      "Time:                        15:34:58   BIC                           1087.893\n",
      "Sample:                             0   HQIC                          1084.758\n",
      "                                - 103                                         \n",
      "Covariance Type:                  opg                                         \n",
      "==============================================================================\n",
      "                 coef    std err          z      P>|z|      [0.025      0.975]\n",
      "------------------------------------------------------------------------------\n",
      "const         94.4951      4.679     20.196      0.000      85.325     103.666\n",
      "sigma2      2067.1259    319.609      6.468      0.000    1440.703    2693.549\n",
      "===================================================================================\n",
      "Ljung-Box (L1) (Q):                   1.33   Jarque-Bera (JB):                 2.76\n",
      "Prob(Q):                              0.25   Prob(JB):                         0.25\n",
      "Heteroskedasticity (H):               1.12   Skew:                             0.38\n",
      "Prob(H) (two-sided):                  0.74   Kurtosis:                         2.77\n",
      "===================================================================================\n",
      "\n",
      "Warnings:\n",
      "[1] Covariance matrix calculated using the outer product of gradients (complex-step).\n"
     ]
    }
   ],
   "source": [
    "# summary of fit model\n",
    "print(model_fit.summary())"
   ]
  },
  {
   "cell_type": "code",
   "execution_count": 12,
   "metadata": {},
   "outputs": [
    {
     "name": "stderr",
     "output_type": "stream",
     "text": [
      "/Users/scottlew/anaconda2/envs/py3/lib/python3.6/site-packages/statsmodels/tsa/base/tsa_model.py:583: ValueWarning:\n",
      "\n",
      "A date index has been provided, but it has no associated frequency information and so will be ignored when e.g. forecasting.\n",
      "\n",
      "/Users/scottlew/anaconda2/envs/py3/lib/python3.6/site-packages/statsmodels/tsa/base/tsa_model.py:587: ValueWarning:\n",
      "\n",
      "A date index has been provided, but it is not monotonic and so will be ignored when e.g. forecasting.\n",
      "\n",
      "/Users/scottlew/anaconda2/envs/py3/lib/python3.6/site-packages/statsmodels/tsa/base/tsa_model.py:583: ValueWarning:\n",
      "\n",
      "A date index has been provided, but it has no associated frequency information and so will be ignored when e.g. forecasting.\n",
      "\n",
      "/Users/scottlew/anaconda2/envs/py3/lib/python3.6/site-packages/statsmodels/tsa/base/tsa_model.py:587: ValueWarning:\n",
      "\n",
      "A date index has been provided, but it is not monotonic and so will be ignored when e.g. forecasting.\n",
      "\n",
      "/Users/scottlew/anaconda2/envs/py3/lib/python3.6/site-packages/statsmodels/tsa/base/tsa_model.py:583: ValueWarning:\n",
      "\n",
      "A date index has been provided, but it has no associated frequency information and so will be ignored when e.g. forecasting.\n",
      "\n",
      "/Users/scottlew/anaconda2/envs/py3/lib/python3.6/site-packages/statsmodels/tsa/base/tsa_model.py:587: ValueWarning:\n",
      "\n",
      "A date index has been provided, but it is not monotonic and so will be ignored when e.g. forecasting.\n",
      "\n",
      "/Users/scottlew/anaconda2/envs/py3/lib/python3.6/site-packages/statsmodels/tsa/base/tsa_model.py:583: ValueWarning:\n",
      "\n",
      "A date index has been provided, but it has no associated frequency information and so will be ignored when e.g. forecasting.\n",
      "\n",
      "/Users/scottlew/anaconda2/envs/py3/lib/python3.6/site-packages/statsmodels/tsa/base/tsa_model.py:587: ValueWarning:\n",
      "\n",
      "A date index has been provided, but it is not monotonic and so will be ignored when e.g. forecasting.\n",
      "\n",
      "/Users/scottlew/anaconda2/envs/py3/lib/python3.6/site-packages/statsmodels/tsa/base/tsa_model.py:583: ValueWarning:\n",
      "\n",
      "A date index has been provided, but it has no associated frequency information and so will be ignored when e.g. forecasting.\n",
      "\n",
      "/Users/scottlew/anaconda2/envs/py3/lib/python3.6/site-packages/statsmodels/tsa/base/tsa_model.py:587: ValueWarning:\n",
      "\n",
      "A date index has been provided, but it is not monotonic and so will be ignored when e.g. forecasting.\n",
      "\n",
      "/Users/scottlew/anaconda2/envs/py3/lib/python3.6/site-packages/statsmodels/tsa/base/tsa_model.py:583: ValueWarning:\n",
      "\n",
      "A date index has been provided, but it has no associated frequency information and so will be ignored when e.g. forecasting.\n",
      "\n",
      "/Users/scottlew/anaconda2/envs/py3/lib/python3.6/site-packages/statsmodels/tsa/base/tsa_model.py:587: ValueWarning:\n",
      "\n",
      "A date index has been provided, but it is not monotonic and so will be ignored when e.g. forecasting.\n",
      "\n",
      "/Users/scottlew/anaconda2/envs/py3/lib/python3.6/site-packages/statsmodels/tsa/base/tsa_model.py:583: ValueWarning:\n",
      "\n",
      "A date index has been provided, but it has no associated frequency information and so will be ignored when e.g. forecasting.\n",
      "\n",
      "/Users/scottlew/anaconda2/envs/py3/lib/python3.6/site-packages/statsmodels/tsa/base/tsa_model.py:587: ValueWarning:\n",
      "\n",
      "A date index has been provided, but it is not monotonic and so will be ignored when e.g. forecasting.\n",
      "\n",
      "/Users/scottlew/anaconda2/envs/py3/lib/python3.6/site-packages/statsmodels/tsa/base/tsa_model.py:583: ValueWarning:\n",
      "\n",
      "A date index has been provided, but it has no associated frequency information and so will be ignored when e.g. forecasting.\n",
      "\n",
      "/Users/scottlew/anaconda2/envs/py3/lib/python3.6/site-packages/statsmodels/tsa/base/tsa_model.py:587: ValueWarning:\n",
      "\n",
      "A date index has been provided, but it is not monotonic and so will be ignored when e.g. forecasting.\n",
      "\n",
      "/Users/scottlew/anaconda2/envs/py3/lib/python3.6/site-packages/statsmodels/tsa/base/tsa_model.py:583: ValueWarning:\n",
      "\n",
      "A date index has been provided, but it has no associated frequency information and so will be ignored when e.g. forecasting.\n",
      "\n",
      "/Users/scottlew/anaconda2/envs/py3/lib/python3.6/site-packages/statsmodels/tsa/base/tsa_model.py:587: ValueWarning:\n",
      "\n",
      "A date index has been provided, but it is not monotonic and so will be ignored when e.g. forecasting.\n",
      "\n",
      "/Users/scottlew/anaconda2/envs/py3/lib/python3.6/site-packages/statsmodels/tsa/base/tsa_model.py:583: ValueWarning:\n",
      "\n",
      "A date index has been provided, but it has no associated frequency information and so will be ignored when e.g. forecasting.\n",
      "\n",
      "/Users/scottlew/anaconda2/envs/py3/lib/python3.6/site-packages/statsmodels/tsa/base/tsa_model.py:587: ValueWarning:\n",
      "\n",
      "A date index has been provided, but it is not monotonic and so will be ignored when e.g. forecasting.\n",
      "\n",
      "/Users/scottlew/anaconda2/envs/py3/lib/python3.6/site-packages/statsmodels/tsa/base/tsa_model.py:583: ValueWarning:\n",
      "\n",
      "A date index has been provided, but it has no associated frequency information and so will be ignored when e.g. forecasting.\n",
      "\n",
      "/Users/scottlew/anaconda2/envs/py3/lib/python3.6/site-packages/statsmodels/tsa/base/tsa_model.py:587: ValueWarning:\n",
      "\n",
      "A date index has been provided, but it is not monotonic and so will be ignored when e.g. forecasting.\n",
      "\n",
      "/Users/scottlew/anaconda2/envs/py3/lib/python3.6/site-packages/statsmodels/tsa/base/tsa_model.py:583: ValueWarning:\n",
      "\n",
      "A date index has been provided, but it has no associated frequency information and so will be ignored when e.g. forecasting.\n",
      "\n",
      "/Users/scottlew/anaconda2/envs/py3/lib/python3.6/site-packages/statsmodels/tsa/base/tsa_model.py:587: ValueWarning:\n",
      "\n",
      "A date index has been provided, but it is not monotonic and so will be ignored when e.g. forecasting.\n",
      "\n",
      "/Users/scottlew/anaconda2/envs/py3/lib/python3.6/site-packages/statsmodels/tsa/base/tsa_model.py:583: ValueWarning:\n",
      "\n",
      "A date index has been provided, but it has no associated frequency information and so will be ignored when e.g. forecasting.\n",
      "\n",
      "/Users/scottlew/anaconda2/envs/py3/lib/python3.6/site-packages/statsmodels/tsa/base/tsa_model.py:587: ValueWarning:\n",
      "\n",
      "A date index has been provided, but it is not monotonic and so will be ignored when e.g. forecasting.\n",
      "\n",
      "/Users/scottlew/anaconda2/envs/py3/lib/python3.6/site-packages/statsmodels/tsa/base/tsa_model.py:583: ValueWarning:\n",
      "\n",
      "A date index has been provided, but it has no associated frequency information and so will be ignored when e.g. forecasting.\n",
      "\n",
      "/Users/scottlew/anaconda2/envs/py3/lib/python3.6/site-packages/statsmodels/tsa/base/tsa_model.py:587: ValueWarning:\n",
      "\n",
      "A date index has been provided, but it is not monotonic and so will be ignored when e.g. forecasting.\n",
      "\n",
      "/Users/scottlew/anaconda2/envs/py3/lib/python3.6/site-packages/statsmodels/tsa/base/tsa_model.py:583: ValueWarning:\n",
      "\n",
      "A date index has been provided, but it has no associated frequency information and so will be ignored when e.g. forecasting.\n",
      "\n",
      "/Users/scottlew/anaconda2/envs/py3/lib/python3.6/site-packages/statsmodels/tsa/base/tsa_model.py:587: ValueWarning:\n",
      "\n",
      "A date index has been provided, but it is not monotonic and so will be ignored when e.g. forecasting.\n",
      "\n",
      "/Users/scottlew/anaconda2/envs/py3/lib/python3.6/site-packages/statsmodels/tsa/base/tsa_model.py:583: ValueWarning:\n",
      "\n",
      "A date index has been provided, but it has no associated frequency information and so will be ignored when e.g. forecasting.\n",
      "\n",
      "/Users/scottlew/anaconda2/envs/py3/lib/python3.6/site-packages/statsmodels/tsa/base/tsa_model.py:587: ValueWarning:\n",
      "\n",
      "A date index has been provided, but it is not monotonic and so will be ignored when e.g. forecasting.\n",
      "\n",
      "/Users/scottlew/anaconda2/envs/py3/lib/python3.6/site-packages/statsmodels/tsa/base/tsa_model.py:583: ValueWarning:\n",
      "\n",
      "A date index has been provided, but it has no associated frequency information and so will be ignored when e.g. forecasting.\n",
      "\n",
      "/Users/scottlew/anaconda2/envs/py3/lib/python3.6/site-packages/statsmodels/tsa/base/tsa_model.py:587: ValueWarning:\n",
      "\n",
      "A date index has been provided, but it is not monotonic and so will be ignored when e.g. forecasting.\n",
      "\n",
      "/Users/scottlew/anaconda2/envs/py3/lib/python3.6/site-packages/statsmodels/tsa/base/tsa_model.py:583: ValueWarning:\n",
      "\n",
      "A date index has been provided, but it has no associated frequency information and so will be ignored when e.g. forecasting.\n",
      "\n",
      "/Users/scottlew/anaconda2/envs/py3/lib/python3.6/site-packages/statsmodels/tsa/base/tsa_model.py:587: ValueWarning:\n",
      "\n",
      "A date index has been provided, but it is not monotonic and so will be ignored when e.g. forecasting.\n",
      "\n",
      "/Users/scottlew/anaconda2/envs/py3/lib/python3.6/site-packages/statsmodels/tsa/base/tsa_model.py:583: ValueWarning:\n",
      "\n",
      "A date index has been provided, but it has no associated frequency information and so will be ignored when e.g. forecasting.\n",
      "\n",
      "/Users/scottlew/anaconda2/envs/py3/lib/python3.6/site-packages/statsmodels/tsa/base/tsa_model.py:587: ValueWarning:\n",
      "\n",
      "A date index has been provided, but it is not monotonic and so will be ignored when e.g. forecasting.\n",
      "\n",
      "/Users/scottlew/anaconda2/envs/py3/lib/python3.6/site-packages/statsmodels/tsa/base/tsa_model.py:583: ValueWarning:\n",
      "\n",
      "A date index has been provided, but it has no associated frequency information and so will be ignored when e.g. forecasting.\n",
      "\n",
      "/Users/scottlew/anaconda2/envs/py3/lib/python3.6/site-packages/statsmodels/tsa/base/tsa_model.py:587: ValueWarning:\n",
      "\n",
      "A date index has been provided, but it is not monotonic and so will be ignored when e.g. forecasting.\n",
      "\n",
      "/Users/scottlew/anaconda2/envs/py3/lib/python3.6/site-packages/statsmodels/tsa/base/tsa_model.py:583: ValueWarning:\n",
      "\n",
      "A date index has been provided, but it has no associated frequency information and so will be ignored when e.g. forecasting.\n",
      "\n",
      "/Users/scottlew/anaconda2/envs/py3/lib/python3.6/site-packages/statsmodels/tsa/base/tsa_model.py:587: ValueWarning:\n",
      "\n",
      "A date index has been provided, but it is not monotonic and so will be ignored when e.g. forecasting.\n",
      "\n"
     ]
    },
    {
     "data": {
      "image/png": "[encoded data removed]",
      "text/plain": [
       "<Figure size 864x432 with 1 Axes>"
      ]
     },
     "metadata": {
      "needs_background": "light"
     },
     "output_type": "display_data"
    }
   ],
   "source": [
    "# Fit the data to an ARIMA(p,0,0) for p = 0,...,6 , and save the BIC\n",
    "BIC = np.zeros(7)\n",
    "for p in range(0,7):\n",
    "    mod = ARIMA(data_train['IsCanceled'],order =(p,0,0))\n",
    "    res = mod.fit()\n",
    "# Save BIC for AR(p)    \n",
    "    BIC[p] = res.bic\n",
    "    \n",
    "# Plot the BIC as a function of p\n",
    "fig, ax = plt.subplots(figsize=(12, 6))\n",
    "for axis in ['top','bottom','left','right']:\n",
    "    ax.spines[axis].set_linewidth(2.5)    \n",
    "plt.plot(range(1,7), BIC[1:7], marker='o')\n",
    "plt.xlabel('Order of ARIMA Model',fontsize=15,fontweight='bold')\n",
    "plt.ylabel('Bayesian Information Criterion',fontsize=15,fontweight='bold')\n",
    "plt.show()"
   ]
  },
  {
   "cell_type": "code",
   "execution_count": 13,
   "metadata": {},
   "outputs": [
    {
     "name": "stderr",
     "output_type": "stream",
     "text": [
      "/Users/scottlew/anaconda2/envs/py3/lib/python3.6/site-packages/statsmodels/tsa/base/tsa_model.py:583: ValueWarning:\n",
      "\n",
      "A date index has been provided, but it has no associated frequency information and so will be ignored when e.g. forecasting.\n",
      "\n",
      "/Users/scottlew/anaconda2/envs/py3/lib/python3.6/site-packages/statsmodels/tsa/base/tsa_model.py:587: ValueWarning:\n",
      "\n",
      "A date index has been provided, but it is not monotonic and so will be ignored when e.g. forecasting.\n",
      "\n",
      "/Users/scottlew/anaconda2/envs/py3/lib/python3.6/site-packages/statsmodels/tsa/base/tsa_model.py:583: ValueWarning:\n",
      "\n",
      "A date index has been provided, but it has no associated frequency information and so will be ignored when e.g. forecasting.\n",
      "\n",
      "/Users/scottlew/anaconda2/envs/py3/lib/python3.6/site-packages/statsmodels/tsa/base/tsa_model.py:587: ValueWarning:\n",
      "\n",
      "A date index has been provided, but it is not monotonic and so will be ignored when e.g. forecasting.\n",
      "\n",
      "/Users/scottlew/anaconda2/envs/py3/lib/python3.6/site-packages/statsmodels/tsa/base/tsa_model.py:583: ValueWarning:\n",
      "\n",
      "A date index has been provided, but it has no associated frequency information and so will be ignored when e.g. forecasting.\n",
      "\n",
      "/Users/scottlew/anaconda2/envs/py3/lib/python3.6/site-packages/statsmodels/tsa/base/tsa_model.py:587: ValueWarning:\n",
      "\n",
      "A date index has been provided, but it is not monotonic and so will be ignored when e.g. forecasting.\n",
      "\n",
      "/Users/scottlew/anaconda2/envs/py3/lib/python3.6/site-packages/statsmodels/tsa/base/tsa_model.py:583: ValueWarning:\n",
      "\n",
      "A date index has been provided, but it has no associated frequency information and so will be ignored when e.g. forecasting.\n",
      "\n",
      "/Users/scottlew/anaconda2/envs/py3/lib/python3.6/site-packages/statsmodels/tsa/base/tsa_model.py:587: ValueWarning:\n",
      "\n",
      "A date index has been provided, but it is not monotonic and so will be ignored when e.g. forecasting.\n",
      "\n",
      "/Users/scottlew/anaconda2/envs/py3/lib/python3.6/site-packages/statsmodels/tsa/base/tsa_model.py:583: ValueWarning:\n",
      "\n",
      "A date index has been provided, but it has no associated frequency information and so will be ignored when e.g. forecasting.\n",
      "\n",
      "/Users/scottlew/anaconda2/envs/py3/lib/python3.6/site-packages/statsmodels/tsa/base/tsa_model.py:587: ValueWarning:\n",
      "\n",
      "A date index has been provided, but it is not monotonic and so will be ignored when e.g. forecasting.\n",
      "\n",
      "/Users/scottlew/anaconda2/envs/py3/lib/python3.6/site-packages/statsmodels/tsa/base/tsa_model.py:583: ValueWarning:\n",
      "\n",
      "A date index has been provided, but it has no associated frequency information and so will be ignored when e.g. forecasting.\n",
      "\n",
      "/Users/scottlew/anaconda2/envs/py3/lib/python3.6/site-packages/statsmodels/tsa/base/tsa_model.py:587: ValueWarning:\n",
      "\n",
      "A date index has been provided, but it is not monotonic and so will be ignored when e.g. forecasting.\n",
      "\n",
      "/Users/scottlew/anaconda2/envs/py3/lib/python3.6/site-packages/statsmodels/tsa/base/tsa_model.py:583: ValueWarning:\n",
      "\n",
      "A date index has been provided, but it has no associated frequency information and so will be ignored when e.g. forecasting.\n",
      "\n",
      "/Users/scottlew/anaconda2/envs/py3/lib/python3.6/site-packages/statsmodels/tsa/base/tsa_model.py:587: ValueWarning:\n",
      "\n",
      "A date index has been provided, but it is not monotonic and so will be ignored when e.g. forecasting.\n",
      "\n",
      "/Users/scottlew/anaconda2/envs/py3/lib/python3.6/site-packages/statsmodels/tsa/base/tsa_model.py:583: ValueWarning:\n",
      "\n",
      "A date index has been provided, but it has no associated frequency information and so will be ignored when e.g. forecasting.\n",
      "\n",
      "/Users/scottlew/anaconda2/envs/py3/lib/python3.6/site-packages/statsmodels/tsa/base/tsa_model.py:587: ValueWarning:\n",
      "\n",
      "A date index has been provided, but it is not monotonic and so will be ignored when e.g. forecasting.\n",
      "\n",
      "/Users/scottlew/anaconda2/envs/py3/lib/python3.6/site-packages/statsmodels/tsa/base/tsa_model.py:583: ValueWarning:\n",
      "\n",
      "A date index has been provided, but it has no associated frequency information and so will be ignored when e.g. forecasting.\n",
      "\n",
      "/Users/scottlew/anaconda2/envs/py3/lib/python3.6/site-packages/statsmodels/tsa/base/tsa_model.py:587: ValueWarning:\n",
      "\n",
      "A date index has been provided, but it is not monotonic and so will be ignored when e.g. forecasting.\n",
      "\n"
     ]
    },
    {
     "data": {
      "image/png": "[encoded data removed]",
      "text/plain": [
       "<Figure size 864x432 with 1 Axes>"
      ]
     },
     "metadata": {
      "needs_background": "light"
     },
     "output_type": "display_data"
    }
   ],
   "source": [
    "d_values = range(0, 3)\n",
    "\n",
    "# Fit the data to an ARIMA(p,0,0) for p = 0,...,6 , and save the BIC\n",
    "BIC_d = np.zeros(7)\n",
    "for d in d_values:\n",
    "    mod = ARIMA(data_train['IsCanceled'],order =(0,d,0))\n",
    "    res = mod.fit()\n",
    "# Save BIC for AR(p)    \n",
    "    BIC_d[p] = res.bic\n",
    "    \n",
    "# Plot the BIC as a function of p\n",
    "fig, ax = plt.subplots(figsize=(12, 6))\n",
    "for axis in ['top','bottom','left','right']:\n",
    "    ax.spines[axis].set_linewidth(2.5)    \n",
    "plt.plot(range(0,3), BIC_d[0:3], marker='o')\n",
    "plt.xlabel('Order of ARIMA Model',fontsize=15,fontweight='bold')\n",
    "plt.ylabel('Bayesian Information Criterion',fontsize=15,fontweight='bold')\n",
    "plt.show()"
   ]
  },
  {
   "cell_type": "code",
   "execution_count": 14,
   "metadata": {},
   "outputs": [
    {
     "name": "stderr",
     "output_type": "stream",
     "text": [
      "/Users/scottlew/anaconda2/envs/py3/lib/python3.6/site-packages/statsmodels/tsa/base/tsa_model.py:583: ValueWarning:\n",
      "\n",
      "A date index has been provided, but it has no associated frequency information and so will be ignored when e.g. forecasting.\n",
      "\n",
      "/Users/scottlew/anaconda2/envs/py3/lib/python3.6/site-packages/statsmodels/tsa/base/tsa_model.py:587: ValueWarning:\n",
      "\n",
      "A date index has been provided, but it is not monotonic and so will be ignored when e.g. forecasting.\n",
      "\n",
      "/Users/scottlew/anaconda2/envs/py3/lib/python3.6/site-packages/statsmodels/tsa/base/tsa_model.py:583: ValueWarning:\n",
      "\n",
      "A date index has been provided, but it has no associated frequency information and so will be ignored when e.g. forecasting.\n",
      "\n",
      "/Users/scottlew/anaconda2/envs/py3/lib/python3.6/site-packages/statsmodels/tsa/base/tsa_model.py:587: ValueWarning:\n",
      "\n",
      "A date index has been provided, but it is not monotonic and so will be ignored when e.g. forecasting.\n",
      "\n",
      "/Users/scottlew/anaconda2/envs/py3/lib/python3.6/site-packages/statsmodels/tsa/base/tsa_model.py:583: ValueWarning:\n",
      "\n",
      "A date index has been provided, but it has no associated frequency information and so will be ignored when e.g. forecasting.\n",
      "\n",
      "/Users/scottlew/anaconda2/envs/py3/lib/python3.6/site-packages/statsmodels/tsa/base/tsa_model.py:587: ValueWarning:\n",
      "\n",
      "A date index has been provided, but it is not monotonic and so will be ignored when e.g. forecasting.\n",
      "\n",
      "/Users/scottlew/anaconda2/envs/py3/lib/python3.6/site-packages/statsmodels/tsa/base/tsa_model.py:583: ValueWarning:\n",
      "\n",
      "A date index has been provided, but it has no associated frequency information and so will be ignored when e.g. forecasting.\n",
      "\n",
      "/Users/scottlew/anaconda2/envs/py3/lib/python3.6/site-packages/statsmodels/tsa/base/tsa_model.py:587: ValueWarning:\n",
      "\n",
      "A date index has been provided, but it is not monotonic and so will be ignored when e.g. forecasting.\n",
      "\n",
      "/Users/scottlew/anaconda2/envs/py3/lib/python3.6/site-packages/statsmodels/tsa/base/tsa_model.py:583: ValueWarning:\n",
      "\n",
      "A date index has been provided, but it has no associated frequency information and so will be ignored when e.g. forecasting.\n",
      "\n",
      "/Users/scottlew/anaconda2/envs/py3/lib/python3.6/site-packages/statsmodels/tsa/base/tsa_model.py:587: ValueWarning:\n",
      "\n",
      "A date index has been provided, but it is not monotonic and so will be ignored when e.g. forecasting.\n",
      "\n",
      "/Users/scottlew/anaconda2/envs/py3/lib/python3.6/site-packages/statsmodels/tsa/base/tsa_model.py:583: ValueWarning:\n",
      "\n",
      "A date index has been provided, but it has no associated frequency information and so will be ignored when e.g. forecasting.\n",
      "\n",
      "/Users/scottlew/anaconda2/envs/py3/lib/python3.6/site-packages/statsmodels/tsa/base/tsa_model.py:587: ValueWarning:\n",
      "\n",
      "A date index has been provided, but it is not monotonic and so will be ignored when e.g. forecasting.\n",
      "\n",
      "/Users/scottlew/anaconda2/envs/py3/lib/python3.6/site-packages/statsmodels/tsa/base/tsa_model.py:583: ValueWarning:\n",
      "\n",
      "A date index has been provided, but it has no associated frequency information and so will be ignored when e.g. forecasting.\n",
      "\n",
      "/Users/scottlew/anaconda2/envs/py3/lib/python3.6/site-packages/statsmodels/tsa/base/tsa_model.py:587: ValueWarning:\n",
      "\n",
      "A date index has been provided, but it is not monotonic and so will be ignored when e.g. forecasting.\n",
      "\n",
      "/Users/scottlew/anaconda2/envs/py3/lib/python3.6/site-packages/statsmodels/tsa/base/tsa_model.py:583: ValueWarning:\n",
      "\n",
      "A date index has been provided, but it has no associated frequency information and so will be ignored when e.g. forecasting.\n",
      "\n",
      "/Users/scottlew/anaconda2/envs/py3/lib/python3.6/site-packages/statsmodels/tsa/base/tsa_model.py:587: ValueWarning:\n",
      "\n",
      "A date index has been provided, but it is not monotonic and so will be ignored when e.g. forecasting.\n",
      "\n",
      "/Users/scottlew/anaconda2/envs/py3/lib/python3.6/site-packages/statsmodels/tsa/base/tsa_model.py:583: ValueWarning:\n",
      "\n",
      "A date index has been provided, but it has no associated frequency information and so will be ignored when e.g. forecasting.\n",
      "\n",
      "/Users/scottlew/anaconda2/envs/py3/lib/python3.6/site-packages/statsmodels/tsa/base/tsa_model.py:587: ValueWarning:\n",
      "\n",
      "A date index has been provided, but it is not monotonic and so will be ignored when e.g. forecasting.\n",
      "\n"
     ]
    },
    {
     "data": {
      "image/png": "[encoded data removed]",
      "text/plain": [
       "<Figure size 864x432 with 1 Axes>"
      ]
     },
     "metadata": {
      "needs_background": "light"
     },
     "output_type": "display_data"
    }
   ],
   "source": [
    "q_values = range(0, 3)\n",
    "\n",
    "# Fit the data to an ARIMA(p,0,0) for p = 0,...,6 , and save the BIC\n",
    "BIC_q = np.zeros(7)\n",
    "for q in q_values:\n",
    "    mod = ARIMA(data_train['IsCanceled'],order =(0,0,q))\n",
    "    res = mod.fit()\n",
    "# Save BIC for AR(p)    \n",
    "    BIC_q[p] = res.bic\n",
    "    \n",
    "# Plot the BIC as a function of p\n",
    "fig, ax = plt.subplots(figsize=(12, 6))\n",
    "for axis in ['top','bottom','left','right']:\n",
    "    ax.spines[axis].set_linewidth(2.5)    \n",
    "plt.plot(range(0,3), BIC_q[0:3], marker='o')\n",
    "plt.xlabel('Order of ARIMA Model',fontsize=15,fontweight='bold')\n",
    "plt.ylabel('Bayesian Information Criterion',fontsize=15,fontweight='bold')\n",
    "plt.show()"
   ]
  },
  {
   "cell_type": "code",
   "execution_count": 15,
   "metadata": {},
   "outputs": [
    {
     "name": "stderr",
     "output_type": "stream",
     "text": [
      "/Users/scottlew/anaconda2/envs/py3/lib/python3.6/site-packages/statsmodels/tsa/base/tsa_model.py:583: ValueWarning:\n",
      "\n",
      "A date index has been provided, but it has no associated frequency information and so will be ignored when e.g. forecasting.\n",
      "\n",
      "/Users/scottlew/anaconda2/envs/py3/lib/python3.6/site-packages/statsmodels/tsa/base/tsa_model.py:587: ValueWarning:\n",
      "\n",
      "A date index has been provided, but it is not monotonic and so will be ignored when e.g. forecasting.\n",
      "\n",
      "/Users/scottlew/anaconda2/envs/py3/lib/python3.6/site-packages/statsmodels/tsa/base/tsa_model.py:583: ValueWarning:\n",
      "\n",
      "A date index has been provided, but it has no associated frequency information and so will be ignored when e.g. forecasting.\n",
      "\n",
      "/Users/scottlew/anaconda2/envs/py3/lib/python3.6/site-packages/statsmodels/tsa/base/tsa_model.py:587: ValueWarning:\n",
      "\n",
      "A date index has been provided, but it is not monotonic and so will be ignored when e.g. forecasting.\n",
      "\n",
      "/Users/scottlew/anaconda2/envs/py3/lib/python3.6/site-packages/statsmodels/tsa/base/tsa_model.py:583: ValueWarning:\n",
      "\n",
      "A date index has been provided, but it has no associated frequency information and so will be ignored when e.g. forecasting.\n",
      "\n",
      "/Users/scottlew/anaconda2/envs/py3/lib/python3.6/site-packages/statsmodels/tsa/base/tsa_model.py:587: ValueWarning:\n",
      "\n",
      "A date index has been provided, but it is not monotonic and so will be ignored when e.g. forecasting.\n",
      "\n"
     ]
    }
   ],
   "source": [
    "# fit model\n",
    "model_op = ARIMA(data_train['IsCanceled'],order= (2,0,0)) #, order=(5,1,0))\n",
    "model_op_fit = model_op.fit()"
   ]
  },
  {
   "cell_type": "code",
   "execution_count": 16,
   "metadata": {},
   "outputs": [
    {
     "name": "stdout",
     "output_type": "stream",
     "text": [
      "                               SARIMAX Results                                \n",
      "==============================================================================\n",
      "Dep. Variable:             IsCanceled   No. Observations:                  103\n",
      "Model:                 ARIMA(2, 0, 0)   Log Likelihood                -534.875\n",
      "Date:                Tue, 31 May 2022   AIC                           1077.750\n",
      "Time:                        15:35:00   BIC                           1088.289\n",
      "Sample:                             0   HQIC                          1082.019\n",
      "                                - 103                                         \n",
      "Covariance Type:                  opg                                         \n",
      "==============================================================================\n",
      "                 coef    std err          z      P>|z|      [0.025      0.975]\n",
      "------------------------------------------------------------------------------\n",
      "const         93.9862      6.986     13.454      0.000      80.295     107.678\n",
      "ar.L1          0.0823      0.106      0.775      0.438      -0.126       0.290\n",
      "ar.L2          0.2701      0.101      2.675      0.007       0.072       0.468\n",
      "sigma2      1894.0188    275.649      6.871      0.000    1353.757    2434.281\n",
      "===================================================================================\n",
      "Ljung-Box (L1) (Q):                   0.26   Jarque-Bera (JB):                 2.05\n",
      "Prob(Q):                              0.61   Prob(JB):                         0.36\n",
      "Heteroskedasticity (H):               1.16   Skew:                             0.35\n",
      "Prob(H) (two-sided):                  0.67   Kurtosis:                         2.98\n",
      "===================================================================================\n",
      "\n",
      "Warnings:\n",
      "[1] Covariance matrix calculated using the outer product of gradients (complex-step).\n"
     ]
    }
   ],
   "source": [
    "# summary of optimized fit model\n",
    "print(model_op_fit.summary())"
   ]
  },
  {
   "cell_type": "markdown",
   "metadata": {},
   "source": [
    "## 2. Calculate the root mean squared error (RMSE) for the predictions versus the actual number of cancellations in the test set. Compare the RMSE value to the mean number of cancellations across the test set."
   ]
  },
  {
   "cell_type": "code",
   "execution_count": 17,
   "metadata": {},
   "outputs": [
    {
     "name": "stdout",
     "output_type": "stream",
     "text": [
      "12\n"
     ]
    }
   ],
   "source": [
    "print(data_test.shape[0])"
   ]
  },
  {
   "cell_type": "code",
   "execution_count": 18,
   "metadata": {},
   "outputs": [
    {
     "name": "stderr",
     "output_type": "stream",
     "text": [
      "/Users/scottlew/anaconda2/envs/py3/lib/python3.6/site-packages/statsmodels/tsa/base/tsa_model.py:379: ValueWarning:\n",
      "\n",
      "No supported index is available. Prediction results will be given with an integer index beginning at `start`.\n",
      "\n"
     ]
    }
   ],
   "source": [
    "forecasts = model_op_fit.forecast(steps=data_test.shape[0])"
   ]
  },
  {
   "cell_type": "code",
   "execution_count": 19,
   "metadata": {},
   "outputs": [
    {
     "data": {
      "text/plain": [
       "103    104.922934\n",
       "104     81.112842\n",
       "105     95.881516\n",
       "106     90.664582\n",
       "107     94.224913\n",
       "108     93.108541\n",
       "109     93.978465\n",
       "110     93.748460\n",
       "111     93.964534\n",
       "112     93.920178\n",
       "113     93.974898\n",
       "114     93.967417\n",
       "Name: predicted_mean, dtype: float64"
      ]
     },
     "execution_count": 19,
     "metadata": {},
     "output_type": "execute_result"
    }
   ],
   "source": [
    "forecasts"
   ]
  },
  {
   "cell_type": "code",
   "execution_count": 20,
   "metadata": {},
   "outputs": [
    {
     "name": "stdout",
     "output_type": "stream",
     "text": [
      "<class 'pandas.core.series.Series'>\n"
     ]
    }
   ],
   "source": [
    "print(type(forecasts))"
   ]
  },
  {
   "cell_type": "code",
   "execution_count": 21,
   "metadata": {},
   "outputs": [
    {
     "name": "stdout",
     "output_type": "stream",
     "text": [
      "12\n"
     ]
    }
   ],
   "source": [
    "print(len(forecasts))"
   ]
  },
  {
   "cell_type": "code",
   "execution_count": 22,
   "metadata": {},
   "outputs": [
    {
     "data": {
      "text/plain": [
       "date\n",
       "2017-07-24    157\n",
       "2017-07-31    173\n",
       "2017-08-07    140\n",
       "2017-08-14    182\n",
       "2017-08-21    143\n",
       "2017-08-28    100\n",
       "2017-01-23     51\n",
       "2017-01-30     51\n",
       "2017-02-06     91\n",
       "2017-02-13     96\n",
       "2017-02-20    128\n",
       "2017-02-27     77\n",
       "Name: IsCanceled, dtype: int64"
      ]
     },
     "execution_count": 22,
     "metadata": {},
     "output_type": "execute_result"
    }
   ],
   "source": [
    "data_test['IsCanceled']"
   ]
  },
  {
   "cell_type": "code",
   "execution_count": 23,
   "metadata": {},
   "outputs": [
    {
     "name": "stdout",
     "output_type": "stream",
     "text": [
      "[157 173 140 182 143 100  51  51  91  96 128  77]\n",
      "\n",
      "103    104.922934\n",
      "104     81.112842\n",
      "105     95.881516\n",
      "106     90.664582\n",
      "107     94.224913\n",
      "108     93.108541\n",
      "109     93.978465\n",
      "110     93.748460\n",
      "111     93.964534\n",
      "112     93.920178\n",
      "113     93.974898\n",
      "114     93.967417\n",
      "Name: predicted_mean, dtype: float64\n"
     ]
    }
   ],
   "source": [
    "test_data = data_test['IsCanceled'].to_numpy()\n",
    "\n",
    "print(test_data)\n",
    "print()\n",
    "print(forecasts)"
   ]
  },
  {
   "cell_type": "code",
   "execution_count": 24,
   "metadata": {},
   "outputs": [
    {
     "name": "stdout",
     "output_type": "stream",
     "text": [
      "[104.92293401  81.11284204  95.88151628  90.66458153  94.22491319\n",
      "  93.10854056  93.97846454  93.74846047  93.96453423  93.92017804\n",
      "  93.97489771  93.9674172 ]\n"
     ]
    }
   ],
   "source": [
    "print(forecasts.to_numpy())"
   ]
  },
  {
   "cell_type": "code",
   "execution_count": 35,
   "metadata": {},
   "outputs": [
    {
     "name": "stdout",
     "output_type": "stream",
     "text": [
      "\n",
      "Root Mean Square Error:\n",
      "49.16\n",
      "\n"
     ]
    }
   ],
   "source": [
    "MSE = np.square(np.subtract(data_test['IsCanceled'].to_numpy(),forecasts.to_numpy())).mean() \n",
    " \n",
    "RMSE = math.sqrt(MSE)\n",
    "print()\n",
    "print(\"Root Mean Square Error:\")\n",
    "print(\"{:.2f}\".format(RMSE))\n",
    "print()"
   ]
  },
  {
   "cell_type": "code",
   "execution_count": 26,
   "metadata": {},
   "outputs": [
    {
     "data": {
      "text/plain": [
       "49.16271064888092"
      ]
     },
     "execution_count": 26,
     "metadata": {},
     "output_type": "execute_result"
    }
   ],
   "source": [
    "from sklearn.metrics import mean_squared_error\n",
    "from math import sqrt\n",
    "pred = forecasts.to_numpy()\n",
    "actual = data_test['IsCanceled'].to_numpy()\n",
    "#calculate RMSE\n",
    "sqrt(mean_squared_error(actual, pred)) "
   ]
  },
  {
   "cell_type": "code",
   "execution_count": 27,
   "metadata": {},
   "outputs": [
    {
     "name": "stdout",
     "output_type": "stream",
     "text": [
      "115.75\n"
     ]
    }
   ],
   "source": [
    "print(data_test['IsCanceled'].to_numpy().mean())"
   ]
  },
  {
   "cell_type": "code",
   "execution_count": 28,
   "metadata": {},
   "outputs": [
    {
     "name": "stdout",
     "output_type": "stream",
     "text": [
      "115.75\n"
     ]
    }
   ],
   "source": [
    "print(np.mean(actual))"
   ]
  },
  {
   "cell_type": "markdown",
   "metadata": {},
   "source": [
    "## RMSE of model is lower than the mean number of cancellations in the test set data."
   ]
  },
  {
   "cell_type": "code",
   "execution_count": null,
   "metadata": {},
   "outputs": [],
   "source": []
  }
 ],
 "metadata": {
  "kernelspec": {
   "display_name": "Python 3",
   "language": "python",
   "name": "python3"
  },
  "language_info": {
   "codemirror_mode": {
    "name": "ipython",
    "version": 3
   },
   "file_extension": ".py",
   "mimetype": "text/x-python",
   "name": "python",
   "nbconvert_exporter": "python",
   "pygments_lexer": "ipython3",
   "version": "3.6.10"
  }
 },
 "nbformat": 4,
 "nbformat_minor": 4
}
